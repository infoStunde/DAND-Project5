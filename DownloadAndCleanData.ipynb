{
 "cells": [
  {
   "cell_type": "code",
   "execution_count": 3,
   "metadata": {
    "collapsed": true,
    "slideshow": {
     "slide_type": "slide"
    }
   },
   "outputs": [],
   "source": [
    "import numpy as np\n",
    "import pandas as pd\n",
    "import seaborn as sns\n",
    "import matplotlib.pyplot as plt\n",
    "\n",
    "%matplotlib inline "
   ]
  },
  {
   "cell_type": "code",
   "execution_count": 4,
   "metadata": {
    "collapsed": true,
    "slideshow": {
     "slide_type": "subslide"
    }
   },
   "outputs": [],
   "source": [
    "import os, zipfile"
   ]
  },
  {
   "cell_type": "markdown",
   "metadata": {},
   "source": [
    "<span style=\"color:red\">ONLY FOLLOW NEXT STEPS IF DATA IS NOT AVAILABLE AND NEEDS TO BE DOWNLOADED</span>"
   ]
  },
  {
   "cell_type": "markdown",
   "metadata": {},
   "source": [
    "Download data (the .zip files) from [here](https://stackoverflow.com/questions/31346790/unzip-all-zipped-files-in-a-folder-to-that-same-folder-using-python-2-7-5) and place it in the folder \n",
    "\n",
    "> /data/bike/"
   ]
  },
  {
   "cell_type": "code",
   "execution_count": 3,
   "metadata": {
    "code_folding": [
     0
    ],
    "collapsed": true,
    "slideshow": {
     "slide_type": "skip"
    }
   },
   "outputs": [],
   "source": [
    "# extract all data from zip files if it is not yet been extracted\n",
    "\n",
    "for f in os.listdir('.'):\n",
    "    if f.endswith('.zip'): # check for \".zip\" extension\n",
    "        zip_ref = zipfile.ZipFile(f) # create zipfile object\n",
    "        zip_ref.extractall('.') # extract file to dir\n",
    "        zip_ref.close() # close file"
   ]
  },
  {
   "cell_type": "code",
   "execution_count": 4,
   "metadata": {
    "code_folding": [
     0
    ],
    "slideshow": {
     "slide_type": "slide"
    }
   },
   "outputs": [
    {
     "name": "stdout",
     "output_type": "stream",
     "text": [
      "201801-fordgobike-tripdata.csv\n",
      "201802-fordgobike-tripdata.csv\n",
      "201803-fordgobike-tripdata.csv\n",
      "201804-fordgobike-tripdata.csv\n",
      "201805-fordgobike-tripdata.csv\n",
      "201806-fordgobike-tripdata.csv\n",
      "201807-fordgobike-tripdata.csv\n",
      "201808-fordgobike-tripdata.csv\n",
      "201809-fordgobike-tripdata.csv\n",
      "201810-fordgobike-tripdata.csv\n",
      "201811-fordgobike-tripdata.csv\n",
      "201812-fordgobike-tripdata.csv\n"
     ]
    }
   ],
   "source": [
    "#read in all available .csv files\n",
    "\n",
    "#This code is taken from https://stackoverflow.com/questions/20906474/import-multiple-csv-files-into-pandas-and-concatenate-into-one-dataframe\n",
    "lbikesPath = 'data/bike/'\n",
    "allFiles = os.listdir(lbikesPath)\n",
    "dfs = []\n",
    "for f in allFiles:\n",
    "    print(f)\n",
    "    if f.endswith('.csv'):\n",
    "        df = pd.read_csv(lbikesPath + f,index_col=None, header=0);\n",
    "        dfs.append(df)"
   ]
  },
  {
   "cell_type": "code",
   "execution_count": 5,
   "metadata": {
    "code_folding": [
     0
    ],
    "collapsed": true,
    "slideshow": {
     "slide_type": "skip"
    }
   },
   "outputs": [],
   "source": [
    "#conncat all the dfs in one and store it\n",
    "frame = pd.concat(dfs, axis = 0, ignore_index = True)\n",
    "frame.to_csv('data/allData.csv', index = False);"
   ]
  },
  {
   "cell_type": "markdown",
   "metadata": {},
   "source": [
    "<span style=\"color:red\">FROM HERE IF (allData.csv exists already) YOU HAVE ALREADY THE DATA DOWNLOADED AND EXECUTED THE STEPS ABOVE ONCE.</span>"
   ]
  },
  {
   "cell_type": "code",
   "execution_count": 5,
   "metadata": {
    "code_folding": [],
    "slideshow": {
     "slide_type": "slide"
    }
   },
   "outputs": [
    {
     "name": "stdout",
     "output_type": "stream",
     "text": [
      "Wall time: 9.62 s\n"
     ]
    }
   ],
   "source": [
    "%%time\n",
    "rides_all = pd.read_csv('data/allData.csv', index_col=False);\n",
    "rides=rides_all"
   ]
  },
  {
   "cell_type": "markdown",
   "metadata": {},
   "source": [
    "## Data Assessing"
   ]
  },
  {
   "cell_type": "code",
   "execution_count": 43,
   "metadata": {},
   "outputs": [
    {
     "name": "stdout",
     "output_type": "stream",
     "text": [
      "Help on method info in module pandas.core.frame:\n",
      "\n",
      "info(verbose=None, buf=None, max_cols=None, memory_usage=None, null_counts=None) method of pandas.core.frame.DataFrame instance\n",
      "    Concise summary of a DataFrame.\n",
      "    \n",
      "    Parameters\n",
      "    ----------\n",
      "    verbose : {None, True, False}, optional\n",
      "        Whether to print the full summary.\n",
      "        None follows the `display.max_info_columns` setting.\n",
      "        True or False overrides the `display.max_info_columns` setting.\n",
      "    buf : writable buffer, defaults to sys.stdout\n",
      "    max_cols : int, default None\n",
      "        Determines whether full summary or short summary is printed.\n",
      "        None follows the `display.max_info_columns` setting.\n",
      "    memory_usage : boolean/string, default None\n",
      "        Specifies whether total memory usage of the DataFrame\n",
      "        elements (including index) should be displayed. None follows\n",
      "        the `display.memory_usage` setting. True or False overrides\n",
      "        the `display.memory_usage` setting. A value of 'deep' is equivalent\n",
      "        of True, with deep introspection. Memory usage is shown in\n",
      "        human-readable units (base-2 representation).\n",
      "    null_counts : boolean, default None\n",
      "        Whether to show the non-null counts\n",
      "    \n",
      "        - If None, then only show if the frame is smaller than\n",
      "          max_info_rows and max_info_columns.\n",
      "        - If True, always show counts.\n",
      "        - If False, never show counts.\n",
      "\n"
     ]
    }
   ],
   "source": [
    "help(rides.info)"
   ]
  },
  {
   "cell_type": "code",
   "execution_count": 45,
   "metadata": {
    "slideshow": {
     "slide_type": "subslide"
    }
   },
   "outputs": [
    {
     "name": "stdout",
     "output_type": "stream",
     "text": [
      "<class 'pandas.core.frame.DataFrame'>\n",
      "RangeIndex: 1663721 entries, 0 to 1663720\n",
      "Data columns (total 16 columns):\n",
      "duration_sec               1663721 non-null int64\n",
      "start_time                 1663721 non-null object\n",
      "end_time                   1663721 non-null object\n",
      "start_station_id           1652432 non-null float64\n",
      "start_station_name         1652432 non-null object\n",
      "start_station_latitude     1663721 non-null float64\n",
      "start_station_longitude    1663721 non-null float64\n",
      "end_station_id             1652432 non-null float64\n",
      "end_station_name           1652432 non-null object\n",
      "end_station_latitude       1663721 non-null float64\n",
      "end_station_longitude      1663721 non-null float64\n",
      "bike_id                    1663721 non-null int64\n",
      "user_type                  1663721 non-null object\n",
      "member_birth_year          1561000 non-null float64\n",
      "member_gender              1561351 non-null object\n",
      "bike_share_for_all_trip    1663721 non-null object\n",
      "dtypes: float64(7), int64(2), object(7)\n",
      "memory usage: 203.1+ MB\n",
      "Wall time: 1.04 s\n"
     ]
    }
   ],
   "source": [
    "%%time\n",
    "rides[0:1663721].info()"
   ]
  },
  {
   "cell_type": "code",
   "execution_count": 8,
   "metadata": {},
   "outputs": [
    {
     "data": {
      "text/html": [
       "<div>\n",
       "<style>\n",
       "    .dataframe thead tr:only-child th {\n",
       "        text-align: right;\n",
       "    }\n",
       "\n",
       "    .dataframe thead th {\n",
       "        text-align: left;\n",
       "    }\n",
       "\n",
       "    .dataframe tbody tr th {\n",
       "        vertical-align: top;\n",
       "    }\n",
       "</style>\n",
       "<table border=\"1\" class=\"dataframe\">\n",
       "  <thead>\n",
       "    <tr style=\"text-align: right;\">\n",
       "      <th></th>\n",
       "      <th>duration_sec</th>\n",
       "      <th>start_time</th>\n",
       "      <th>end_time</th>\n",
       "      <th>start_station_id</th>\n",
       "      <th>start_station_name</th>\n",
       "      <th>start_station_latitude</th>\n",
       "      <th>start_station_longitude</th>\n",
       "      <th>end_station_id</th>\n",
       "      <th>end_station_name</th>\n",
       "      <th>end_station_latitude</th>\n",
       "      <th>end_station_longitude</th>\n",
       "      <th>bike_id</th>\n",
       "      <th>user_type</th>\n",
       "      <th>member_birth_year</th>\n",
       "      <th>member_gender</th>\n",
       "      <th>bike_share_for_all_trip</th>\n",
       "    </tr>\n",
       "  </thead>\n",
       "  <tbody>\n",
       "    <tr>\n",
       "      <th>0</th>\n",
       "      <td>75284</td>\n",
       "      <td>2018-01-31 22:52:35.2390</td>\n",
       "      <td>2018-02-01 19:47:19.8240</td>\n",
       "      <td>120.0</td>\n",
       "      <td>Mission Dolores Park</td>\n",
       "      <td>37.761420</td>\n",
       "      <td>-122.426435</td>\n",
       "      <td>285.0</td>\n",
       "      <td>Webster St at O'Farrell St</td>\n",
       "      <td>37.783521</td>\n",
       "      <td>-122.431158</td>\n",
       "      <td>2765</td>\n",
       "      <td>Subscriber</td>\n",
       "      <td>1986.0</td>\n",
       "      <td>Male</td>\n",
       "      <td>No</td>\n",
       "    </tr>\n",
       "    <tr>\n",
       "      <th>1</th>\n",
       "      <td>85422</td>\n",
       "      <td>2018-01-31 16:13:34.3510</td>\n",
       "      <td>2018-02-01 15:57:17.3100</td>\n",
       "      <td>15.0</td>\n",
       "      <td>San Francisco Ferry Building (Harry Bridges Pl...</td>\n",
       "      <td>37.795392</td>\n",
       "      <td>-122.394203</td>\n",
       "      <td>15.0</td>\n",
       "      <td>San Francisco Ferry Building (Harry Bridges Pl...</td>\n",
       "      <td>37.795392</td>\n",
       "      <td>-122.394203</td>\n",
       "      <td>2815</td>\n",
       "      <td>Customer</td>\n",
       "      <td>NaN</td>\n",
       "      <td>NaN</td>\n",
       "      <td>No</td>\n",
       "    </tr>\n",
       "    <tr>\n",
       "      <th>2</th>\n",
       "      <td>71576</td>\n",
       "      <td>2018-01-31 14:23:55.8890</td>\n",
       "      <td>2018-02-01 10:16:52.1160</td>\n",
       "      <td>304.0</td>\n",
       "      <td>Jackson St at 5th St</td>\n",
       "      <td>37.348759</td>\n",
       "      <td>-121.894798</td>\n",
       "      <td>296.0</td>\n",
       "      <td>5th St at Virginia St</td>\n",
       "      <td>37.325998</td>\n",
       "      <td>-121.877120</td>\n",
       "      <td>3039</td>\n",
       "      <td>Customer</td>\n",
       "      <td>1996.0</td>\n",
       "      <td>Male</td>\n",
       "      <td>No</td>\n",
       "    </tr>\n",
       "    <tr>\n",
       "      <th>3</th>\n",
       "      <td>61076</td>\n",
       "      <td>2018-01-31 14:53:23.5620</td>\n",
       "      <td>2018-02-01 07:51:20.5000</td>\n",
       "      <td>75.0</td>\n",
       "      <td>Market St at Franklin St</td>\n",
       "      <td>37.773793</td>\n",
       "      <td>-122.421239</td>\n",
       "      <td>47.0</td>\n",
       "      <td>4th St at Harrison St</td>\n",
       "      <td>37.780955</td>\n",
       "      <td>-122.399749</td>\n",
       "      <td>321</td>\n",
       "      <td>Customer</td>\n",
       "      <td>NaN</td>\n",
       "      <td>NaN</td>\n",
       "      <td>No</td>\n",
       "    </tr>\n",
       "    <tr>\n",
       "      <th>4</th>\n",
       "      <td>39966</td>\n",
       "      <td>2018-01-31 19:52:24.6670</td>\n",
       "      <td>2018-02-01 06:58:31.0530</td>\n",
       "      <td>74.0</td>\n",
       "      <td>Laguna St at Hayes St</td>\n",
       "      <td>37.776435</td>\n",
       "      <td>-122.426244</td>\n",
       "      <td>19.0</td>\n",
       "      <td>Post St at Kearny St</td>\n",
       "      <td>37.788975</td>\n",
       "      <td>-122.403452</td>\n",
       "      <td>617</td>\n",
       "      <td>Subscriber</td>\n",
       "      <td>1991.0</td>\n",
       "      <td>Male</td>\n",
       "      <td>No</td>\n",
       "    </tr>\n",
       "  </tbody>\n",
       "</table>\n",
       "</div>"
      ],
      "text/plain": [
       "   duration_sec                start_time                  end_time  \\\n",
       "0         75284  2018-01-31 22:52:35.2390  2018-02-01 19:47:19.8240   \n",
       "1         85422  2018-01-31 16:13:34.3510  2018-02-01 15:57:17.3100   \n",
       "2         71576  2018-01-31 14:23:55.8890  2018-02-01 10:16:52.1160   \n",
       "3         61076  2018-01-31 14:53:23.5620  2018-02-01 07:51:20.5000   \n",
       "4         39966  2018-01-31 19:52:24.6670  2018-02-01 06:58:31.0530   \n",
       "\n",
       "   start_station_id                                 start_station_name  \\\n",
       "0             120.0                               Mission Dolores Park   \n",
       "1              15.0  San Francisco Ferry Building (Harry Bridges Pl...   \n",
       "2             304.0                               Jackson St at 5th St   \n",
       "3              75.0                           Market St at Franklin St   \n",
       "4              74.0                              Laguna St at Hayes St   \n",
       "\n",
       "   start_station_latitude  start_station_longitude  end_station_id  \\\n",
       "0               37.761420              -122.426435           285.0   \n",
       "1               37.795392              -122.394203            15.0   \n",
       "2               37.348759              -121.894798           296.0   \n",
       "3               37.773793              -122.421239            47.0   \n",
       "4               37.776435              -122.426244            19.0   \n",
       "\n",
       "                                    end_station_name  end_station_latitude  \\\n",
       "0                         Webster St at O'Farrell St             37.783521   \n",
       "1  San Francisco Ferry Building (Harry Bridges Pl...             37.795392   \n",
       "2                              5th St at Virginia St             37.325998   \n",
       "3                              4th St at Harrison St             37.780955   \n",
       "4                               Post St at Kearny St             37.788975   \n",
       "\n",
       "   end_station_longitude  bike_id   user_type  member_birth_year  \\\n",
       "0            -122.431158     2765  Subscriber             1986.0   \n",
       "1            -122.394203     2815    Customer                NaN   \n",
       "2            -121.877120     3039    Customer             1996.0   \n",
       "3            -122.399749      321    Customer                NaN   \n",
       "4            -122.403452      617  Subscriber             1991.0   \n",
       "\n",
       "  member_gender bike_share_for_all_trip  \n",
       "0          Male                      No  \n",
       "1           NaN                      No  \n",
       "2          Male                      No  \n",
       "3           NaN                      No  \n",
       "4          Male                      No  "
      ]
     },
     "execution_count": 8,
     "metadata": {},
     "output_type": "execute_result"
    }
   ],
   "source": [
    "rides.head()"
   ]
  },
  {
   "cell_type": "code",
   "execution_count": 9,
   "metadata": {},
   "outputs": [
    {
     "data": {
      "text/html": [
       "<div>\n",
       "<style>\n",
       "    .dataframe thead tr:only-child th {\n",
       "        text-align: right;\n",
       "    }\n",
       "\n",
       "    .dataframe thead th {\n",
       "        text-align: left;\n",
       "    }\n",
       "\n",
       "    .dataframe tbody tr th {\n",
       "        vertical-align: top;\n",
       "    }\n",
       "</style>\n",
       "<table border=\"1\" class=\"dataframe\">\n",
       "  <thead>\n",
       "    <tr style=\"text-align: right;\">\n",
       "      <th></th>\n",
       "      <th>duration_sec</th>\n",
       "      <th>start_station_id</th>\n",
       "      <th>start_station_latitude</th>\n",
       "      <th>start_station_longitude</th>\n",
       "      <th>end_station_id</th>\n",
       "      <th>end_station_latitude</th>\n",
       "      <th>end_station_longitude</th>\n",
       "      <th>bike_id</th>\n",
       "      <th>member_birth_year</th>\n",
       "    </tr>\n",
       "  </thead>\n",
       "  <tbody>\n",
       "    <tr>\n",
       "      <th>count</th>\n",
       "      <td>1.863721e+06</td>\n",
       "      <td>1.851950e+06</td>\n",
       "      <td>1.863721e+06</td>\n",
       "      <td>1.863721e+06</td>\n",
       "      <td>1.851950e+06</td>\n",
       "      <td>1.863721e+06</td>\n",
       "      <td>1.863721e+06</td>\n",
       "      <td>1.863721e+06</td>\n",
       "      <td>1.753003e+06</td>\n",
       "    </tr>\n",
       "    <tr>\n",
       "      <th>mean</th>\n",
       "      <td>8.573026e+02</td>\n",
       "      <td>1.196744e+02</td>\n",
       "      <td>3.776678e+01</td>\n",
       "      <td>-1.223492e+02</td>\n",
       "      <td>1.181730e+02</td>\n",
       "      <td>3.776690e+01</td>\n",
       "      <td>-1.223487e+02</td>\n",
       "      <td>2.296851e+03</td>\n",
       "      <td>1.983088e+03</td>\n",
       "    </tr>\n",
       "    <tr>\n",
       "      <th>std</th>\n",
       "      <td>2.370379e+03</td>\n",
       "      <td>1.003976e+02</td>\n",
       "      <td>1.057689e-01</td>\n",
       "      <td>1.654634e-01</td>\n",
       "      <td>1.004403e+02</td>\n",
       "      <td>1.056483e-01</td>\n",
       "      <td>1.650597e-01</td>\n",
       "      <td>1.287733e+03</td>\n",
       "      <td>1.044289e+01</td>\n",
       "    </tr>\n",
       "    <tr>\n",
       "      <th>min</th>\n",
       "      <td>6.100000e+01</td>\n",
       "      <td>3.000000e+00</td>\n",
       "      <td>3.726331e+01</td>\n",
       "      <td>-1.224737e+02</td>\n",
       "      <td>3.000000e+00</td>\n",
       "      <td>3.726331e+01</td>\n",
       "      <td>-1.224737e+02</td>\n",
       "      <td>1.100000e+01</td>\n",
       "      <td>1.881000e+03</td>\n",
       "    </tr>\n",
       "    <tr>\n",
       "      <th>25%</th>\n",
       "      <td>3.500000e+02</td>\n",
       "      <td>3.300000e+01</td>\n",
       "      <td>3.777106e+01</td>\n",
       "      <td>-1.224114e+02</td>\n",
       "      <td>3.000000e+01</td>\n",
       "      <td>3.777106e+01</td>\n",
       "      <td>-1.224094e+02</td>\n",
       "      <td>1.225000e+03</td>\n",
       "      <td>1.978000e+03</td>\n",
       "    </tr>\n",
       "    <tr>\n",
       "      <th>50%</th>\n",
       "      <td>5.560000e+02</td>\n",
       "      <td>8.900000e+01</td>\n",
       "      <td>3.778107e+01</td>\n",
       "      <td>-1.223974e+02</td>\n",
       "      <td>8.800000e+01</td>\n",
       "      <td>3.778127e+01</td>\n",
       "      <td>-1.223971e+02</td>\n",
       "      <td>2.338000e+03</td>\n",
       "      <td>1.985000e+03</td>\n",
       "    </tr>\n",
       "    <tr>\n",
       "      <th>75%</th>\n",
       "      <td>8.720000e+02</td>\n",
       "      <td>1.860000e+02</td>\n",
       "      <td>3.779625e+01</td>\n",
       "      <td>-1.222865e+02</td>\n",
       "      <td>1.830000e+02</td>\n",
       "      <td>3.779728e+01</td>\n",
       "      <td>-1.222894e+02</td>\n",
       "      <td>3.333000e+03</td>\n",
       "      <td>1.991000e+03</td>\n",
       "    </tr>\n",
       "    <tr>\n",
       "      <th>max</th>\n",
       "      <td>8.636600e+04</td>\n",
       "      <td>3.810000e+02</td>\n",
       "      <td>4.551000e+01</td>\n",
       "      <td>-7.357000e+01</td>\n",
       "      <td>3.810000e+02</td>\n",
       "      <td>4.551000e+01</td>\n",
       "      <td>-7.357000e+01</td>\n",
       "      <td>6.234000e+03</td>\n",
       "      <td>2.000000e+03</td>\n",
       "    </tr>\n",
       "  </tbody>\n",
       "</table>\n",
       "</div>"
      ],
      "text/plain": [
       "       duration_sec  start_station_id  start_station_latitude  \\\n",
       "count  1.863721e+06      1.851950e+06            1.863721e+06   \n",
       "mean   8.573026e+02      1.196744e+02            3.776678e+01   \n",
       "std    2.370379e+03      1.003976e+02            1.057689e-01   \n",
       "min    6.100000e+01      3.000000e+00            3.726331e+01   \n",
       "25%    3.500000e+02      3.300000e+01            3.777106e+01   \n",
       "50%    5.560000e+02      8.900000e+01            3.778107e+01   \n",
       "75%    8.720000e+02      1.860000e+02            3.779625e+01   \n",
       "max    8.636600e+04      3.810000e+02            4.551000e+01   \n",
       "\n",
       "       start_station_longitude  end_station_id  end_station_latitude  \\\n",
       "count             1.863721e+06    1.851950e+06          1.863721e+06   \n",
       "mean             -1.223492e+02    1.181730e+02          3.776690e+01   \n",
       "std               1.654634e-01    1.004403e+02          1.056483e-01   \n",
       "min              -1.224737e+02    3.000000e+00          3.726331e+01   \n",
       "25%              -1.224114e+02    3.000000e+01          3.777106e+01   \n",
       "50%              -1.223974e+02    8.800000e+01          3.778127e+01   \n",
       "75%              -1.222865e+02    1.830000e+02          3.779728e+01   \n",
       "max              -7.357000e+01    3.810000e+02          4.551000e+01   \n",
       "\n",
       "       end_station_longitude       bike_id  member_birth_year  \n",
       "count           1.863721e+06  1.863721e+06       1.753003e+06  \n",
       "mean           -1.223487e+02  2.296851e+03       1.983088e+03  \n",
       "std             1.650597e-01  1.287733e+03       1.044289e+01  \n",
       "min            -1.224737e+02  1.100000e+01       1.881000e+03  \n",
       "25%            -1.224094e+02  1.225000e+03       1.978000e+03  \n",
       "50%            -1.223971e+02  2.338000e+03       1.985000e+03  \n",
       "75%            -1.222894e+02  3.333000e+03       1.991000e+03  \n",
       "max            -7.357000e+01  6.234000e+03       2.000000e+03  "
      ]
     },
     "execution_count": 9,
     "metadata": {},
     "output_type": "execute_result"
    }
   ],
   "source": [
    "# Outlier analysis\n",
    "rides.describe()"
   ]
  },
  {
   "cell_type": "code",
   "execution_count": 10,
   "metadata": {},
   "outputs": [
    {
     "data": {
      "text/plain": [
       "False"
      ]
     },
     "execution_count": 10,
     "metadata": {},
     "output_type": "execute_result"
    }
   ],
   "source": [
    "rides.duplicated().any()"
   ]
  },
  {
   "cell_type": "markdown",
   "metadata": {},
   "source": [
    "## Data Cleaning \n",
    "\n",
    "### Define\n",
    "- remove na\n",
    "- remove Unnamed col\n",
    "- change times to datetime format\n",
    "- change station id to string without .0\n",
    "- make user type ordinal\n",
    "- make birth year to int\n",
    "- create col age\n",
    "- make gender nominal\n",
    "- make station id to categorical\n",
    "- delete age > 100\n",
    "- add time of the day/ weekday/ month as separate column\n",
    "- add path label (from - to)"
   ]
  },
  {
   "cell_type": "markdown",
   "metadata": {},
   "source": [
    "### Code\n"
   ]
  },
  {
   "cell_type": "code",
   "execution_count": 6,
   "metadata": {
    "collapsed": true
   },
   "outputs": [],
   "source": [
    "#remove nas\n",
    "rides.dropna(inplace=True)"
   ]
  },
  {
   "cell_type": "code",
   "execution_count": 26,
   "metadata": {
    "collapsed": true
   },
   "outputs": [],
   "source": [
    "# remove Unnamed col\n",
    "#rides = rides.drop(['Unnamed: 0'], axis=1)"
   ]
  },
  {
   "cell_type": "code",
   "execution_count": 7,
   "metadata": {
    "collapsed": true
   },
   "outputs": [],
   "source": [
    "# change times to datetime format\n",
    "rides.start_time = pd.to_datetime(rides.start_time)\n",
    "rides.end_time = pd.to_datetime(rides.end_time)"
   ]
  },
  {
   "cell_type": "code",
   "execution_count": 8,
   "metadata": {
    "collapsed": true
   },
   "outputs": [],
   "source": [
    "# change station id to string without .0\n",
    "rides.start_station_id=rides.start_station_id.map(lambda x: '{:.0f}'.format(x))\n",
    "rides.end_station_id=rides.end_station_id.map(lambda x: '{:.0f}'.format(x))"
   ]
  },
  {
   "cell_type": "code",
   "execution_count": 9,
   "metadata": {
    "collapsed": true
   },
   "outputs": [],
   "source": [
    "# make col age\n",
    "rides['user_age'] = rides.end_time.dt.year - rides.member_birth_year\n",
    "rides.user_age = rides.user_age.fillna(0).astype('int')"
   ]
  },
  {
   "cell_type": "code",
   "execution_count": 10,
   "metadata": {
    "collapsed": true
   },
   "outputs": [],
   "source": [
    "# make user type ordinal\n",
    "#customer = casual / subscriber = member\n",
    "\n",
    "ordinal_var_dict = {'user_type': ['Customer','Subscriber']}\n",
    "for var in ordinal_var_dict:\n",
    "    rides[var] = rides[var].astype('category', ordered = True,categories = ordinal_var_dict[var])"
   ]
  },
  {
   "cell_type": "code",
   "execution_count": 11,
   "metadata": {
    "collapsed": true
   },
   "outputs": [],
   "source": [
    "# make user gender and bike_share_for_all_trip nominal\n",
    "rides['member_gender'] = rides['member_gender'].astype('category')\n",
    "rides['bike_share_for_all_trip'] = rides['bike_share_for_all_trip'].astype('category')"
   ]
  },
  {
   "cell_type": "code",
   "execution_count": 12,
   "metadata": {
    "collapsed": true
   },
   "outputs": [],
   "source": [
    "# delete age > 100\n",
    "rides = rides[rides.user_age <= 100]"
   ]
  },
  {
   "cell_type": "code",
   "execution_count": 13,
   "metadata": {},
   "outputs": [
    {
     "name": "stderr",
     "output_type": "stream",
     "text": [
      "C:\\Users\\Dima\\Anaconda3\\lib\\site-packages\\pandas\\core\\generic.py:2999: SettingWithCopyWarning: \n",
      "A value is trying to be set on a copy of a slice from a DataFrame.\n",
      "Try using .loc[row_indexer,col_indexer] = value instead\n",
      "\n",
      "See the caveats in the documentation: http://pandas.pydata.org/pandas-docs/stable/indexing.html#indexing-view-versus-copy\n",
      "  self[name] = value\n"
     ]
    }
   ],
   "source": [
    "# make station id to categorical\n",
    "rides.start_station_id=rides.start_station_id.astype('category')\n",
    "rides.end_station_id=rides.end_station_id.astype('category')"
   ]
  },
  {
   "cell_type": "code",
   "execution_count": 81,
   "metadata": {},
   "outputs": [
    {
     "name": "stderr",
     "output_type": "stream",
     "text": [
      "C:\\Users\\Dima\\Anaconda3\\lib\\site-packages\\ipykernel\\__main__.py:17: SettingWithCopyWarning: \n",
      "A value is trying to be set on a copy of a slice from a DataFrame.\n",
      "Try using .loc[row_indexer,col_indexer] = value instead\n",
      "\n",
      "See the caveats in the documentation: http://pandas.pydata.org/pandas-docs/stable/indexing.html#indexing-view-versus-copy\n",
      "C:\\Users\\Dima\\Anaconda3\\lib\\site-packages\\ipykernel\\__main__.py:18: SettingWithCopyWarning: \n",
      "A value is trying to be set on a copy of a slice from a DataFrame.\n",
      "Try using .loc[row_indexer,col_indexer] = value instead\n",
      "\n",
      "See the caveats in the documentation: http://pandas.pydata.org/pandas-docs/stable/indexing.html#indexing-view-versus-copy\n"
     ]
    }
   ],
   "source": [
    "# add times of the day\n",
    "\n",
    "def cutDayTime(timestamp):\n",
    "    hour = timestamp.hour\n",
    "    if(0 <= hour <= 6):\n",
    "        return 'night'\n",
    "    if(6 < hour <= 12):\n",
    "        return 'morning'\n",
    "    if(12 < hour <= 18):\n",
    "        return 'afternoon'\n",
    "    if(18 < hour <= 22):\n",
    "        return 'evening'\n",
    "    if(22 < hour <= 24):\n",
    "        return 'night'\n",
    "    return 'not a time'\n",
    "\n",
    "rides['start_daytime'] = rides.start_time.apply(cutDayTime)\n",
    "rides['end_daytime'] = rides.end_time.apply(cutDayTime)"
   ]
  },
  {
   "cell_type": "code",
   "execution_count": 15,
   "metadata": {},
   "outputs": [
    {
     "name": "stderr",
     "output_type": "stream",
     "text": [
      "C:\\Users\\Dima\\Anaconda3\\lib\\site-packages\\ipykernel\\__main__.py:5: SettingWithCopyWarning: \n",
      "A value is trying to be set on a copy of a slice from a DataFrame.\n",
      "Try using .loc[row_indexer,col_indexer] = value instead\n",
      "\n",
      "See the caveats in the documentation: http://pandas.pydata.org/pandas-docs/stable/indexing.html#indexing-view-versus-copy\n"
     ]
    }
   ],
   "source": [
    "# add order to the times of the day\n",
    "time_order = ['morning', 'afternoon', 'evening', 'night']\n",
    "vars=['start_daytime','end_daytime']\n",
    "for var in vars:\n",
    "    rides[var] = rides[var].astype('category', ordered = True,categories = time_order)"
   ]
  },
  {
   "cell_type": "code",
   "execution_count": 16,
   "metadata": {},
   "outputs": [
    {
     "name": "stderr",
     "output_type": "stream",
     "text": [
      "C:\\Users\\Dima\\Anaconda3\\lib\\site-packages\\ipykernel\\__main__.py:2: SettingWithCopyWarning: \n",
      "A value is trying to be set on a copy of a slice from a DataFrame.\n",
      "Try using .loc[row_indexer,col_indexer] = value instead\n",
      "\n",
      "See the caveats in the documentation: http://pandas.pydata.org/pandas-docs/stable/indexing.html#indexing-view-versus-copy\n",
      "  from ipykernel import kernelapp as app\n",
      "C:\\Users\\Dima\\Anaconda3\\lib\\site-packages\\ipykernel\\__main__.py:3: SettingWithCopyWarning: \n",
      "A value is trying to be set on a copy of a slice from a DataFrame.\n",
      "Try using .loc[row_indexer,col_indexer] = value instead\n",
      "\n",
      "See the caveats in the documentation: http://pandas.pydata.org/pandas-docs/stable/indexing.html#indexing-view-versus-copy\n",
      "  app.launch_new_instance()\n"
     ]
    }
   ],
   "source": [
    "#extract day in week from timestampy\n",
    "rides['start_weekday'] = rides.start_time.dt.dayofweek\n",
    "rides['end_weekday'] = rides.end_time.dt.dayofweek"
   ]
  },
  {
   "cell_type": "code",
   "execution_count": 17,
   "metadata": {},
   "outputs": [
    {
     "name": "stderr",
     "output_type": "stream",
     "text": [
      "C:\\Users\\Dima\\Anaconda3\\lib\\site-packages\\ipykernel\\__main__.py:2: SettingWithCopyWarning: \n",
      "A value is trying to be set on a copy of a slice from a DataFrame.\n",
      "Try using .loc[row_indexer,col_indexer] = value instead\n",
      "\n",
      "See the caveats in the documentation: http://pandas.pydata.org/pandas-docs/stable/indexing.html#indexing-view-versus-copy\n",
      "  from ipykernel import kernelapp as app\n"
     ]
    }
   ],
   "source": [
    "#extract month in timestampy\n",
    "rides['start_month'] = rides.start_time.dt.month"
   ]
  },
  {
   "cell_type": "code",
   "execution_count": 142,
   "metadata": {},
   "outputs": [
    {
     "name": "stderr",
     "output_type": "stream",
     "text": [
      "C:\\Users\\Dima\\Anaconda3\\lib\\site-packages\\ipykernel\\__main__.py:2: SettingWithCopyWarning: \n",
      "A value is trying to be set on a copy of a slice from a DataFrame.\n",
      "Try using .loc[row_indexer,col_indexer] = value instead\n",
      "\n",
      "See the caveats in the documentation: http://pandas.pydata.org/pandas-docs/stable/indexing.html#indexing-view-versus-copy\n",
      "  from ipykernel import kernelapp as app\n"
     ]
    }
   ],
   "source": [
    "#extract start hour\n",
    "rides['start_hour'] = rides.start_time.dt.hour"
   ]
  },
  {
   "cell_type": "code",
   "execution_count": 18,
   "metadata": {},
   "outputs": [
    {
     "name": "stderr",
     "output_type": "stream",
     "text": [
      "C:\\Users\\Dima\\Anaconda3\\lib\\site-packages\\ipykernel\\__main__.py:2: SettingWithCopyWarning: \n",
      "A value is trying to be set on a copy of a slice from a DataFrame.\n",
      "Try using .loc[row_indexer,col_indexer] = value instead\n",
      "\n",
      "See the caveats in the documentation: http://pandas.pydata.org/pandas-docs/stable/indexing.html#indexing-view-versus-copy\n",
      "  from ipykernel import kernelapp as app\n"
     ]
    }
   ],
   "source": [
    "# add path label (from - to)\n",
    "rides['path'] = rides.apply(lambda row: '{}-{}'.format(row.start_station_id , row.end_station_id), axis=1)"
   ]
  },
  {
   "cell_type": "markdown",
   "metadata": {},
   "source": [
    "### Test"
   ]
  },
  {
   "cell_type": "code",
   "execution_count": 143,
   "metadata": {},
   "outputs": [
    {
     "data": {
      "text/html": [
       "<div>\n",
       "<style>\n",
       "    .dataframe thead tr:only-child th {\n",
       "        text-align: right;\n",
       "    }\n",
       "\n",
       "    .dataframe thead th {\n",
       "        text-align: left;\n",
       "    }\n",
       "\n",
       "    .dataframe tbody tr th {\n",
       "        vertical-align: top;\n",
       "    }\n",
       "</style>\n",
       "<table border=\"1\" class=\"dataframe\">\n",
       "  <thead>\n",
       "    <tr style=\"text-align: right;\">\n",
       "      <th></th>\n",
       "      <th>duration_sec</th>\n",
       "      <th>start_time</th>\n",
       "      <th>end_time</th>\n",
       "      <th>start_station_id</th>\n",
       "      <th>start_station_name</th>\n",
       "      <th>start_station_latitude</th>\n",
       "      <th>start_station_longitude</th>\n",
       "      <th>end_station_id</th>\n",
       "      <th>end_station_name</th>\n",
       "      <th>end_station_latitude</th>\n",
       "      <th>...</th>\n",
       "      <th>member_gender</th>\n",
       "      <th>bike_share_for_all_trip</th>\n",
       "      <th>user_age</th>\n",
       "      <th>start_daytime</th>\n",
       "      <th>end_daytime</th>\n",
       "      <th>start_weekday</th>\n",
       "      <th>end_weekday</th>\n",
       "      <th>start_month</th>\n",
       "      <th>path</th>\n",
       "      <th>start_hour</th>\n",
       "    </tr>\n",
       "  </thead>\n",
       "  <tbody>\n",
       "    <tr>\n",
       "      <th>0</th>\n",
       "      <td>75284</td>\n",
       "      <td>2018-01-31 22:52:35.239</td>\n",
       "      <td>2018-02-01 19:47:19.824</td>\n",
       "      <td>120</td>\n",
       "      <td>Mission Dolores Park</td>\n",
       "      <td>37.761420</td>\n",
       "      <td>-122.426435</td>\n",
       "      <td>285</td>\n",
       "      <td>Webster St at O'Farrell St</td>\n",
       "      <td>37.783521</td>\n",
       "      <td>...</td>\n",
       "      <td>Male</td>\n",
       "      <td>No</td>\n",
       "      <td>32</td>\n",
       "      <td>evening</td>\n",
       "      <td>evening</td>\n",
       "      <td>2</td>\n",
       "      <td>3</td>\n",
       "      <td>1</td>\n",
       "      <td>120-285</td>\n",
       "      <td>22</td>\n",
       "    </tr>\n",
       "    <tr>\n",
       "      <th>2</th>\n",
       "      <td>71576</td>\n",
       "      <td>2018-01-31 14:23:55.889</td>\n",
       "      <td>2018-02-01 10:16:52.116</td>\n",
       "      <td>304</td>\n",
       "      <td>Jackson St at 5th St</td>\n",
       "      <td>37.348759</td>\n",
       "      <td>-121.894798</td>\n",
       "      <td>296</td>\n",
       "      <td>5th St at Virginia St</td>\n",
       "      <td>37.325998</td>\n",
       "      <td>...</td>\n",
       "      <td>Male</td>\n",
       "      <td>No</td>\n",
       "      <td>22</td>\n",
       "      <td>afternoon</td>\n",
       "      <td>morning</td>\n",
       "      <td>2</td>\n",
       "      <td>3</td>\n",
       "      <td>1</td>\n",
       "      <td>304-296</td>\n",
       "      <td>14</td>\n",
       "    </tr>\n",
       "    <tr>\n",
       "      <th>4</th>\n",
       "      <td>39966</td>\n",
       "      <td>2018-01-31 19:52:24.667</td>\n",
       "      <td>2018-02-01 06:58:31.053</td>\n",
       "      <td>74</td>\n",
       "      <td>Laguna St at Hayes St</td>\n",
       "      <td>37.776435</td>\n",
       "      <td>-122.426244</td>\n",
       "      <td>19</td>\n",
       "      <td>Post St at Kearny St</td>\n",
       "      <td>37.788975</td>\n",
       "      <td>...</td>\n",
       "      <td>Male</td>\n",
       "      <td>No</td>\n",
       "      <td>27</td>\n",
       "      <td>evening</td>\n",
       "      <td>night</td>\n",
       "      <td>2</td>\n",
       "      <td>3</td>\n",
       "      <td>1</td>\n",
       "      <td>74-19</td>\n",
       "      <td>19</td>\n",
       "    </tr>\n",
       "    <tr>\n",
       "      <th>6</th>\n",
       "      <td>453</td>\n",
       "      <td>2018-01-31 23:53:53.632</td>\n",
       "      <td>2018-02-01 00:01:26.805</td>\n",
       "      <td>110</td>\n",
       "      <td>17th &amp; Folsom Street Park (17th St at Folsom St)</td>\n",
       "      <td>37.763708</td>\n",
       "      <td>-122.415204</td>\n",
       "      <td>134</td>\n",
       "      <td>Valencia St at 24th St</td>\n",
       "      <td>37.752428</td>\n",
       "      <td>...</td>\n",
       "      <td>Male</td>\n",
       "      <td>No</td>\n",
       "      <td>30</td>\n",
       "      <td>night</td>\n",
       "      <td>night</td>\n",
       "      <td>2</td>\n",
       "      <td>3</td>\n",
       "      <td>1</td>\n",
       "      <td>110-134</td>\n",
       "      <td>23</td>\n",
       "    </tr>\n",
       "    <tr>\n",
       "      <th>7</th>\n",
       "      <td>180</td>\n",
       "      <td>2018-01-31 23:52:09.903</td>\n",
       "      <td>2018-01-31 23:55:10.807</td>\n",
       "      <td>81</td>\n",
       "      <td>Berry St at 4th St</td>\n",
       "      <td>37.775880</td>\n",
       "      <td>-122.393170</td>\n",
       "      <td>93</td>\n",
       "      <td>4th St at Mission Bay Blvd S</td>\n",
       "      <td>37.770407</td>\n",
       "      <td>...</td>\n",
       "      <td>Male</td>\n",
       "      <td>No</td>\n",
       "      <td>38</td>\n",
       "      <td>night</td>\n",
       "      <td>night</td>\n",
       "      <td>2</td>\n",
       "      <td>2</td>\n",
       "      <td>1</td>\n",
       "      <td>81-93</td>\n",
       "      <td>23</td>\n",
       "    </tr>\n",
       "  </tbody>\n",
       "</table>\n",
       "<p>5 rows × 24 columns</p>\n",
       "</div>"
      ],
      "text/plain": [
       "   duration_sec              start_time                end_time  \\\n",
       "0         75284 2018-01-31 22:52:35.239 2018-02-01 19:47:19.824   \n",
       "2         71576 2018-01-31 14:23:55.889 2018-02-01 10:16:52.116   \n",
       "4         39966 2018-01-31 19:52:24.667 2018-02-01 06:58:31.053   \n",
       "6           453 2018-01-31 23:53:53.632 2018-02-01 00:01:26.805   \n",
       "7           180 2018-01-31 23:52:09.903 2018-01-31 23:55:10.807   \n",
       "\n",
       "  start_station_id                                start_station_name  \\\n",
       "0              120                              Mission Dolores Park   \n",
       "2              304                              Jackson St at 5th St   \n",
       "4               74                             Laguna St at Hayes St   \n",
       "6              110  17th & Folsom Street Park (17th St at Folsom St)   \n",
       "7               81                                Berry St at 4th St   \n",
       "\n",
       "   start_station_latitude  start_station_longitude end_station_id  \\\n",
       "0               37.761420              -122.426435            285   \n",
       "2               37.348759              -121.894798            296   \n",
       "4               37.776435              -122.426244             19   \n",
       "6               37.763708              -122.415204            134   \n",
       "7               37.775880              -122.393170             93   \n",
       "\n",
       "               end_station_name  end_station_latitude     ...      \\\n",
       "0    Webster St at O'Farrell St             37.783521     ...       \n",
       "2         5th St at Virginia St             37.325998     ...       \n",
       "4          Post St at Kearny St             37.788975     ...       \n",
       "6        Valencia St at 24th St             37.752428     ...       \n",
       "7  4th St at Mission Bay Blvd S             37.770407     ...       \n",
       "\n",
       "   member_gender  bike_share_for_all_trip user_age  start_daytime end_daytime  \\\n",
       "0           Male                       No       32        evening     evening   \n",
       "2           Male                       No       22      afternoon     morning   \n",
       "4           Male                       No       27        evening       night   \n",
       "6           Male                       No       30          night       night   \n",
       "7           Male                       No       38          night       night   \n",
       "\n",
       "  start_weekday  end_weekday start_month     path  start_hour  \n",
       "0             2            3           1  120-285          22  \n",
       "2             2            3           1  304-296          14  \n",
       "4             2            3           1    74-19          19  \n",
       "6             2            3           1  110-134          23  \n",
       "7             2            2           1    81-93          23  \n",
       "\n",
       "[5 rows x 24 columns]"
      ]
     },
     "execution_count": 143,
     "metadata": {},
     "output_type": "execute_result"
    }
   ],
   "source": [
    "rides.head()"
   ]
  },
  {
   "cell_type": "code",
   "execution_count": 139,
   "metadata": {},
   "outputs": [
    {
     "data": {
      "text/html": [
       "<div>\n",
       "<style>\n",
       "    .dataframe thead tr:only-child th {\n",
       "        text-align: right;\n",
       "    }\n",
       "\n",
       "    .dataframe thead th {\n",
       "        text-align: left;\n",
       "    }\n",
       "\n",
       "    .dataframe tbody tr th {\n",
       "        vertical-align: top;\n",
       "    }\n",
       "</style>\n",
       "<table border=\"1\" class=\"dataframe\">\n",
       "  <thead>\n",
       "    <tr style=\"text-align: right;\">\n",
       "      <th></th>\n",
       "      <th>user_type</th>\n",
       "      <th>member_birth_year</th>\n",
       "      <th>member_gender</th>\n",
       "      <th>bike_share_for_all_trip</th>\n",
       "      <th>user_age</th>\n",
       "    </tr>\n",
       "  </thead>\n",
       "  <tbody>\n",
       "    <tr>\n",
       "      <th>0</th>\n",
       "      <td>Subscriber</td>\n",
       "      <td>1986.0</td>\n",
       "      <td>Male</td>\n",
       "      <td>No</td>\n",
       "      <td>32</td>\n",
       "    </tr>\n",
       "    <tr>\n",
       "      <th>2</th>\n",
       "      <td>Customer</td>\n",
       "      <td>1996.0</td>\n",
       "      <td>Male</td>\n",
       "      <td>No</td>\n",
       "      <td>22</td>\n",
       "    </tr>\n",
       "    <tr>\n",
       "      <th>4</th>\n",
       "      <td>Subscriber</td>\n",
       "      <td>1991.0</td>\n",
       "      <td>Male</td>\n",
       "      <td>No</td>\n",
       "      <td>27</td>\n",
       "    </tr>\n",
       "    <tr>\n",
       "      <th>6</th>\n",
       "      <td>Subscriber</td>\n",
       "      <td>1988.0</td>\n",
       "      <td>Male</td>\n",
       "      <td>No</td>\n",
       "      <td>30</td>\n",
       "    </tr>\n",
       "    <tr>\n",
       "      <th>7</th>\n",
       "      <td>Subscriber</td>\n",
       "      <td>1980.0</td>\n",
       "      <td>Male</td>\n",
       "      <td>No</td>\n",
       "      <td>38</td>\n",
       "    </tr>\n",
       "  </tbody>\n",
       "</table>\n",
       "</div>"
      ],
      "text/plain": [
       "    user_type  member_birth_year member_gender bike_share_for_all_trip  \\\n",
       "0  Subscriber             1986.0          Male                      No   \n",
       "2    Customer             1996.0          Male                      No   \n",
       "4  Subscriber             1991.0          Male                      No   \n",
       "6  Subscriber             1988.0          Male                      No   \n",
       "7  Subscriber             1980.0          Male                      No   \n",
       "\n",
       "   user_age  \n",
       "0        32  \n",
       "2        22  \n",
       "4        27  \n",
       "6        30  \n",
       "7        38  "
      ]
     },
     "execution_count": 139,
     "metadata": {},
     "output_type": "execute_result"
    }
   ],
   "source": [
    "user=rides[['user_type','member_birth_year','member_gender','bike_share_for_all_trip','user_age']]\n",
    "user.head()"
   ]
  },
  {
   "cell_type": "code",
   "execution_count": 144,
   "metadata": {},
   "outputs": [
    {
     "data": {
      "text/html": [
       "<div>\n",
       "<style>\n",
       "    .dataframe thead tr:only-child th {\n",
       "        text-align: right;\n",
       "    }\n",
       "\n",
       "    .dataframe thead th {\n",
       "        text-align: left;\n",
       "    }\n",
       "\n",
       "    .dataframe tbody tr th {\n",
       "        vertical-align: top;\n",
       "    }\n",
       "</style>\n",
       "<table border=\"1\" class=\"dataframe\">\n",
       "  <thead>\n",
       "    <tr style=\"text-align: right;\">\n",
       "      <th></th>\n",
       "      <th>bike_id</th>\n",
       "      <th>duration_sec</th>\n",
       "      <th>start_time</th>\n",
       "      <th>end_time</th>\n",
       "      <th>start_station_id</th>\n",
       "      <th>end_station_id</th>\n",
       "      <th>start_daytime</th>\n",
       "      <th>end_daytime</th>\n",
       "      <th>start_weekday</th>\n",
       "      <th>end_weekday</th>\n",
       "      <th>start_month</th>\n",
       "      <th>path</th>\n",
       "      <th>start_hour</th>\n",
       "    </tr>\n",
       "  </thead>\n",
       "  <tbody>\n",
       "    <tr>\n",
       "      <th>0</th>\n",
       "      <td>2765</td>\n",
       "      <td>75284</td>\n",
       "      <td>2018-01-31 22:52:35.239</td>\n",
       "      <td>2018-02-01 19:47:19.824</td>\n",
       "      <td>120</td>\n",
       "      <td>285</td>\n",
       "      <td>evening</td>\n",
       "      <td>evening</td>\n",
       "      <td>2</td>\n",
       "      <td>3</td>\n",
       "      <td>1</td>\n",
       "      <td>120-285</td>\n",
       "      <td>22</td>\n",
       "    </tr>\n",
       "    <tr>\n",
       "      <th>2</th>\n",
       "      <td>3039</td>\n",
       "      <td>71576</td>\n",
       "      <td>2018-01-31 14:23:55.889</td>\n",
       "      <td>2018-02-01 10:16:52.116</td>\n",
       "      <td>304</td>\n",
       "      <td>296</td>\n",
       "      <td>afternoon</td>\n",
       "      <td>morning</td>\n",
       "      <td>2</td>\n",
       "      <td>3</td>\n",
       "      <td>1</td>\n",
       "      <td>304-296</td>\n",
       "      <td>14</td>\n",
       "    </tr>\n",
       "    <tr>\n",
       "      <th>4</th>\n",
       "      <td>617</td>\n",
       "      <td>39966</td>\n",
       "      <td>2018-01-31 19:52:24.667</td>\n",
       "      <td>2018-02-01 06:58:31.053</td>\n",
       "      <td>74</td>\n",
       "      <td>19</td>\n",
       "      <td>evening</td>\n",
       "      <td>night</td>\n",
       "      <td>2</td>\n",
       "      <td>3</td>\n",
       "      <td>1</td>\n",
       "      <td>74-19</td>\n",
       "      <td>19</td>\n",
       "    </tr>\n",
       "    <tr>\n",
       "      <th>6</th>\n",
       "      <td>3571</td>\n",
       "      <td>453</td>\n",
       "      <td>2018-01-31 23:53:53.632</td>\n",
       "      <td>2018-02-01 00:01:26.805</td>\n",
       "      <td>110</td>\n",
       "      <td>134</td>\n",
       "      <td>night</td>\n",
       "      <td>night</td>\n",
       "      <td>2</td>\n",
       "      <td>3</td>\n",
       "      <td>1</td>\n",
       "      <td>110-134</td>\n",
       "      <td>23</td>\n",
       "    </tr>\n",
       "    <tr>\n",
       "      <th>7</th>\n",
       "      <td>1403</td>\n",
       "      <td>180</td>\n",
       "      <td>2018-01-31 23:52:09.903</td>\n",
       "      <td>2018-01-31 23:55:10.807</td>\n",
       "      <td>81</td>\n",
       "      <td>93</td>\n",
       "      <td>night</td>\n",
       "      <td>night</td>\n",
       "      <td>2</td>\n",
       "      <td>2</td>\n",
       "      <td>1</td>\n",
       "      <td>81-93</td>\n",
       "      <td>23</td>\n",
       "    </tr>\n",
       "  </tbody>\n",
       "</table>\n",
       "</div>"
      ],
      "text/plain": [
       "   bike_id  duration_sec              start_time                end_time  \\\n",
       "0     2765         75284 2018-01-31 22:52:35.239 2018-02-01 19:47:19.824   \n",
       "2     3039         71576 2018-01-31 14:23:55.889 2018-02-01 10:16:52.116   \n",
       "4      617         39966 2018-01-31 19:52:24.667 2018-02-01 06:58:31.053   \n",
       "6     3571           453 2018-01-31 23:53:53.632 2018-02-01 00:01:26.805   \n",
       "7     1403           180 2018-01-31 23:52:09.903 2018-01-31 23:55:10.807   \n",
       "\n",
       "  start_station_id end_station_id start_daytime end_daytime  start_weekday  \\\n",
       "0              120            285       evening     evening              2   \n",
       "2              304            296     afternoon     morning              2   \n",
       "4               74             19       evening       night              2   \n",
       "6              110            134         night       night              2   \n",
       "7               81             93         night       night              2   \n",
       "\n",
       "   end_weekday  start_month     path  start_hour  \n",
       "0            3            1  120-285          22  \n",
       "2            3            1  304-296          14  \n",
       "4            3            1    74-19          19  \n",
       "6            3            1  110-134          23  \n",
       "7            2            1    81-93          23  "
      ]
     },
     "execution_count": 144,
     "metadata": {},
     "output_type": "execute_result"
    }
   ],
   "source": [
    "ride=rides[['bike_id','duration_sec','start_time','end_time','start_station_id','end_station_id','start_daytime','end_daytime','start_weekday','end_weekday','start_month','path', 'start_hour']]\n",
    "ride.head()"
   ]
  },
  {
   "cell_type": "code",
   "execution_count": 176,
   "metadata": {
    "code_folding": []
   },
   "outputs": [],
   "source": [
    "#helper frames for ride\n",
    "stations = pd.melt(ride, id_vars=['bike_id','duration_sec', 'path'], value_vars=['start_station_id','end_station_id'], var_name='type', value_name='station_id')\n",
    "times = pd.melt(ride, id_vars=['bike_id','duration_sec', 'path'], value_vars=['start_time','end_time'], var_name='type', value_name='time')\n",
    "\n",
    "times.type = times.type.str.split('_').str[0]\n",
    "stations.type = stations.type.str.split('_').str[0]"
   ]
  },
  {
   "cell_type": "code",
   "execution_count": 177,
   "metadata": {},
   "outputs": [],
   "source": [
    "ride = times.merge(stations)"
   ]
  },
  {
   "cell_type": "code",
   "execution_count": 179,
   "metadata": {},
   "outputs": [
    {
     "data": {
      "text/html": [
       "<div>\n",
       "<style>\n",
       "    .dataframe thead tr:only-child th {\n",
       "        text-align: right;\n",
       "    }\n",
       "\n",
       "    .dataframe thead th {\n",
       "        text-align: left;\n",
       "    }\n",
       "\n",
       "    .dataframe tbody tr th {\n",
       "        vertical-align: top;\n",
       "    }\n",
       "</style>\n",
       "<table border=\"1\" class=\"dataframe\">\n",
       "  <thead>\n",
       "    <tr style=\"text-align: right;\">\n",
       "      <th></th>\n",
       "      <th>bike_id</th>\n",
       "      <th>duration_sec</th>\n",
       "      <th>path</th>\n",
       "      <th>type</th>\n",
       "      <th>time</th>\n",
       "      <th>station_id</th>\n",
       "    </tr>\n",
       "  </thead>\n",
       "  <tbody>\n",
       "    <tr>\n",
       "      <th>0</th>\n",
       "      <td>2765</td>\n",
       "      <td>75284</td>\n",
       "      <td>120-285</td>\n",
       "      <td>start</td>\n",
       "      <td>NaN</td>\n",
       "      <td>NaN</td>\n",
       "    </tr>\n",
       "    <tr>\n",
       "      <th>1</th>\n",
       "      <td>2765</td>\n",
       "      <td>75284</td>\n",
       "      <td>120-285</td>\n",
       "      <td>start</td>\n",
       "      <td>NaN</td>\n",
       "      <td>NaN</td>\n",
       "    </tr>\n",
       "    <tr>\n",
       "      <th>2</th>\n",
       "      <td>2765</td>\n",
       "      <td>75284</td>\n",
       "      <td>120-285</td>\n",
       "      <td>start</td>\n",
       "      <td>NaN</td>\n",
       "      <td>NaN</td>\n",
       "    </tr>\n",
       "    <tr>\n",
       "      <th>3</th>\n",
       "      <td>2765</td>\n",
       "      <td>75284</td>\n",
       "      <td>120-285</td>\n",
       "      <td>start</td>\n",
       "      <td>NaN</td>\n",
       "      <td>NaN</td>\n",
       "    </tr>\n",
       "    <tr>\n",
       "      <th>4</th>\n",
       "      <td>3039</td>\n",
       "      <td>71576</td>\n",
       "      <td>304-296</td>\n",
       "      <td>start</td>\n",
       "      <td>NaN</td>\n",
       "      <td>NaN</td>\n",
       "    </tr>\n",
       "  </tbody>\n",
       "</table>\n",
       "</div>"
      ],
      "text/plain": [
       "   bike_id  duration_sec     path   type  time  station_id\n",
       "0     2765         75284  120-285  start   NaN         NaN\n",
       "1     2765         75284  120-285  start   NaN         NaN\n",
       "2     2765         75284  120-285  start   NaN         NaN\n",
       "3     2765         75284  120-285  start   NaN         NaN\n",
       "4     3039         71576  304-296  start   NaN         NaN"
      ]
     },
     "execution_count": 179,
     "metadata": {},
     "output_type": "execute_result"
    }
   ],
   "source": [
    "ride.head()"
   ]
  },
  {
   "cell_type": "code",
   "execution_count": 178,
   "metadata": {},
   "outputs": [],
   "source": [
    "station1 = rides[['start_station_id','start_station_latitude','start_station_longitude','start_station_name']]\n",
    "station2 = rides[['end_station_id','end_station_latitude','end_station_longitude','end_station_name']]\n",
    "station2 = station2.rename(columns={'end_station_id':'start_station_id','end_station_latitude':'start_station_latitude','end_station_longitude':'start_station_longitude', 'end_station_name':'start_station_name'})\n",
    "station = station1.append(station2)\n",
    "station.drop_duplicates(inplace=True)\n",
    "station=station.rename(columns={'start_station_id':'station_id','start_station_latitude':'station_latitude','start_station_longitude':'station_longitude','start_station_name':'station_name'})\n",
    "station.reset_index(drop=True, inplace=True)"
   ]
  },
  {
   "cell_type": "code",
   "execution_count": null,
   "metadata": {
    "collapsed": true
   },
   "outputs": [],
   "source": [
    "station.head()"
   ]
  },
  {
   "cell_type": "code",
   "execution_count": 67,
   "metadata": {},
   "outputs": [],
   "source": [
    "#Test\n",
    "assert not station.duplicated().any()\n",
    "assert len(station) == 351"
   ]
  },
  {
   "cell_type": "code",
   "execution_count": 123,
   "metadata": {},
   "outputs": [
    {
     "name": "stdout",
     "output_type": "stream",
     "text": [
      "<class 'pandas.core.frame.DataFrame'>\n",
      "Int64Index: 1740396 entries, 0 to 1863719\n",
      "Data columns (total 23 columns):\n",
      "duration_sec               int64\n",
      "start_time                 datetime64[ns]\n",
      "end_time                   datetime64[ns]\n",
      "start_station_id           category\n",
      "start_station_name         object\n",
      "start_station_latitude     float64\n",
      "start_station_longitude    float64\n",
      "end_station_id             category\n",
      "end_station_name           object\n",
      "end_station_latitude       float64\n",
      "end_station_longitude      float64\n",
      "bike_id                    int64\n",
      "user_type                  category\n",
      "member_birth_year          float64\n",
      "member_gender              category\n",
      "bike_share_for_all_trip    category\n",
      "user_age                   int32\n",
      "start_daytime              category\n",
      "end_daytime                category\n",
      "start_weekday              int64\n",
      "end_weekday                int64\n",
      "start_month                int64\n",
      "path                       object\n",
      "dtypes: category(7), datetime64[ns](2), float64(5), int32(1), int64(5), object(3)\n",
      "memory usage: 314.1+ MB\n"
     ]
    }
   ],
   "source": [
    "rides.info()"
   ]
  },
  {
   "cell_type": "markdown",
   "metadata": {},
   "source": [
    "### Store Data"
   ]
  },
  {
   "cell_type": "code",
   "execution_count": 124,
   "metadata": {
    "collapsed": true
   },
   "outputs": [],
   "source": [
    "rides.to_csv('data/rides.csv', index=False)"
   ]
  }
 ],
 "metadata": {
  "kernelspec": {
   "display_name": "Python [default]",
   "language": "python",
   "name": "python3"
  },
  "language_info": {
   "codemirror_mode": {
    "name": "ipython",
    "version": 3
   },
   "file_extension": ".py",
   "mimetype": "text/x-python",
   "name": "python",
   "nbconvert_exporter": "python",
   "pygments_lexer": "ipython3",
   "version": "3.5.3"
  }
 },
 "nbformat": 4,
 "nbformat_minor": 2
}
