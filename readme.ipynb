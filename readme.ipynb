{
 "cells": [
  {
   "cell_type": "markdown",
   "metadata": {},
   "source": [
    "This document notes the dataset you have chosen and its source, if it wasn’t part of the Dataset options. \n",
    "- Ford GoBike System Data\n",
    "\n",
    "Report the main findings from your exploratory data analysis:\n",
    "- tbd \n",
    "\n",
    "Report how you chose the plots to put in your explanatory report: \n",
    "- tbd\n",
    "\n",
    "Feedback from others to help your explanatory designs:\n",
    "- tbd\n",
    "\n"
   ]
  }
 ],
 "metadata": {
  "kernelspec": {
   "display_name": "Python [default]",
   "language": "python",
   "name": "python3"
  },
  "language_info": {
   "codemirror_mode": {
    "name": "ipython",
    "version": 3
   },
   "file_extension": ".py",
   "mimetype": "text/x-python",
   "name": "python",
   "nbconvert_exporter": "python",
   "pygments_lexer": "ipython3",
   "version": "3.5.3"
  }
 },
 "nbformat": 4,
 "nbformat_minor": 2
}
